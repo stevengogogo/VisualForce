{
 "cells": [
  {
   "cell_type": "markdown",
   "metadata": {},
   "source": [
    "# visual_transform-Color_PDFoutput"
   ]
  },
  {
   "cell_type": "code",
   "execution_count": 1,
   "metadata": {
    "collapsed": true
   },
   "outputs": [],
   "source": [
    "#Use cv.imshow to display RGB images"
   ]
  },
  {
   "cell_type": "code",
   "execution_count": 2,
   "metadata": {
    "collapsed": false
   },
   "outputs": [
    {
     "ename": "ImportError",
     "evalue": "No module named rcsetup",
     "output_type": "error",
     "traceback": [
      "\u001b[0;31m---------------------------------------------------------------------------\u001b[0m",
      "\u001b[0;31mImportError\u001b[0m                               Traceback (most recent call last)",
      "\u001b[0;32m<ipython-input-2-fb8141dba1cf>\u001b[0m in \u001b[0;36m<module>\u001b[0;34m()\u001b[0m\n\u001b[1;32m      1\u001b[0m \u001b[1;32mimport\u001b[0m \u001b[0mcv2\u001b[0m\u001b[1;33m\u001b[0m\u001b[0m\n\u001b[1;32m      2\u001b[0m \u001b[1;32mimport\u001b[0m \u001b[0mnumpy\u001b[0m \u001b[1;32mas\u001b[0m \u001b[0mnp\u001b[0m\u001b[1;33m\u001b[0m\u001b[0m\n\u001b[0;32m----> 3\u001b[0;31m \u001b[1;32mfrom\u001b[0m \u001b[0mmatplotlib\u001b[0m \u001b[1;32mimport\u001b[0m \u001b[0mpyplot\u001b[0m \u001b[1;32mas\u001b[0m \u001b[0mplt\u001b[0m\u001b[1;33m\u001b[0m\u001b[0m\n\u001b[0m\u001b[1;32m      4\u001b[0m \u001b[1;32mfrom\u001b[0m \u001b[0mmpl_toolkits\u001b[0m\u001b[1;33m.\u001b[0m\u001b[0mmplot3d\u001b[0m \u001b[1;32mimport\u001b[0m \u001b[0mAxes3D\u001b[0m\u001b[1;33m\u001b[0m\u001b[0m\n\u001b[1;32m      5\u001b[0m \u001b[1;32mimport\u001b[0m \u001b[0mmatplotlib\u001b[0m\u001b[1;33m.\u001b[0m\u001b[0mpatches\u001b[0m \u001b[1;32mas\u001b[0m \u001b[0mpatches\u001b[0m\u001b[1;33m\u001b[0m\u001b[0m\n",
      "\u001b[0;32mC:\\Users\\Stevenchiu\\AppData\\Local\\Continuum\\Anaconda2\\lib\\site-packages\\matplotlib\\__init__.py\u001b[0m in \u001b[0;36m<module>\u001b[0;34m()\u001b[0m\n\u001b[1;32m    192\u001b[0m \u001b[1;33m\u001b[0m\u001b[0m\n\u001b[1;32m    193\u001b[0m \u001b[1;33m\u001b[0m\u001b[0m\n\u001b[0;32m--> 194\u001b[0;31m from matplotlib.rcsetup import (defaultParams,\n\u001b[0m\u001b[1;32m    195\u001b[0m                                 validate_backend)\n\u001b[1;32m    196\u001b[0m \u001b[1;33m\u001b[0m\u001b[0m\n",
      "\u001b[0;31mImportError\u001b[0m: No module named rcsetup"
     ]
    }
   ],
   "source": [
    "import cv2\n",
    "import numpy as np\n",
    "from matplotlib import pyplot as plt\n",
    "from mpl_toolkits.mplot3d import Axes3D\n",
    "import matplotlib.patches as patches\n",
    "import matplotlib.image as mpimg\n",
    "from matplotlib.backends.backend_pdf import PdfPages"
   ]
  },
  {
   "cell_type": "code",
   "execution_count": 60,
   "metadata": {
    "collapsed": false
   },
   "outputs": [
    {
     "name": "stdout",
     "output_type": "stream",
     "text": [
      "Using matplotlib backend: Qt5Agg\n"
     ]
    }
   ],
   "source": [
    "%matplotlib "
   ]
  },
  {
   "cell_type": "markdown",
   "metadata": {
    "collapsed": true
   },
   "source": [
    "## Parameters Setting"
   ]
  },
  {
   "cell_type": "code",
   "execution_count": 61,
   "metadata": {
    "collapsed": false
   },
   "outputs": [],
   "source": [
    "def setting():\n",
    "    global r, xy, downsample_size, img, VibraStage_amp, VibraStage_freq, filename\n",
    "    r = 100 #radius\n",
    "    xy = [150, 150];\n",
    "    downsample_size = np.array([14,14]) #the size after downsampling\n",
    "    img = mpimg.imread('KENDO.PNG')\n",
    "    VibraStage_amp = 0.01 #vibration amp stage(mm) of light energy\n",
    "    VibraStage_freq = np.array([100, 200, 300, 400, 500, 0]) #vibration freq stage(Hz) of RED YELLOW GREEN BLUE WHITE BLACK"
   ]
  },
  {
   "cell_type": "code",
   "execution_count": 62,
   "metadata": {
    "collapsed": true
   },
   "outputs": [],
   "source": [
    "global w1,w2,wout,b1,b2,bout\n",
    "w1 = np.load('w1.npy')\n",
    "w2 = np.load('w2.npy')\n",
    "wout = np.load('wout.npy')\n",
    "b1 = np.load('b1.npy')\n",
    "b2 = np.load('b2.npy')\n",
    "bout = np.load('bout.npy')"
   ]
  },
  {
   "cell_type": "markdown",
   "metadata": {},
   "source": [
    "## Image Slicing"
   ]
  },
  {
   "cell_type": "code",
   "execution_count": 63,
   "metadata": {
    "collapsed": false
   },
   "outputs": [],
   "source": [
    "def downsamp(img,downsample_size):\n",
    "    return cv2.resize(img,(downsample_size[0],downsample_size[1]),interpolation=cv2.INTER_LINEAR )\n",
    "    del img,downsample_size\n",
    "def crop(img,r,xy):\n",
    "    return  img[(xy[1]-r):(xy[1]+r),(xy[0]-r):(xy[0]+r),:]\n",
    "    del img,r,xy\n",
    "def currentscene(img,r,xy,downsample_size):\n",
    "    sliced_img = crop(img,r,xy)\n",
    "    resize = downsamp(sliced_img,downsample_size)\n",
    "    return resize\n",
    "    del resize, img, r, xy, downsample_size, sliced_img"
   ]
  },
  {
   "cell_type": "markdown",
   "metadata": {},
   "source": [
    "## Image Processing"
   ]
  },
  {
   "cell_type": "code",
   "execution_count": 64,
   "metadata": {
    "collapsed": true
   },
   "outputs": [],
   "source": [
    "# Light Energy -- Frequency\n",
    "def amparray(img,VibraStage_amp):\n",
    "    amparray = np.zeros([img.shape[0],img.shape[1]])\n",
    "    for x in range(0,img.shape[0]):\n",
    "        for y in range(0,img.shape[1]):\n",
    "            amparray[x,y] = energy(img[x,y,:], VibraStage_amp)\n",
    "    return amparray\n",
    "    del amparray, img,VibraStage_amp\n",
    "def freqarray(img,VibraStage_freq):\n",
    "    freqarray = np.zeros([img.shape[0],img.shape[1]])\n",
    "    for x in range(0,img.shape[0]):\n",
    "        for y in range(0,img.shape[1]):\n",
    "            freqarray[x,y] = VibraStage_freq[neuralprocess(w1,w2,wout,b1,b2,bout, img[x,y,:])]\n",
    "    return freqarray\n",
    "    del img, img,VibraStage_freq, freqarray\n",
    "def neuralprocess(w1,w2,wout,b1,b2,bout, Input):\n",
    "    Input = Input[0:3]*255\n",
    "    first = np.maximum((np.matmul(Input, w1)+b1),0)\n",
    "    second = np.maximum((np.matmul(first, w2)+b2),0)\n",
    "    output = (np.matmul(second, wout)+bout)\n",
    "    return np.argmax(output)\n",
    "def energy(point,VibraStage):\n",
    "    square_sum = point[0]**2+point[1]**2+point[2]**2\n",
    "    square_mean = square_sum/3.0\n",
    "    rms = float(square_mean**0.5)\n",
    "    return rms*VibraStage*255\n",
    "    del point, VibraStage"
   ]
  },
  {
   "cell_type": "markdown",
   "metadata": {},
   "source": [
    "## Image Display"
   ]
  },
  {
   "cell_type": "code",
   "execution_count": 65,
   "metadata": {
    "collapsed": false
   },
   "outputs": [],
   "source": [
    "def imshow(img,title1):\n",
    "    plt.figure()\n",
    "    plt.imshow(img)\n",
    "    #plt.title(title1)\n",
    "    plt.show()\n",
    "def cuplot(array):\n",
    "    downsample_size = array.shape\n",
    "    xpos1 = np.array([])\n",
    "    for i in range(0,downsample_size[0]):\n",
    "        xpos1 = np.append(xpos1,np.ones(downsample_size[0])*0.25+np.ones(downsample_size[0])*i)\n",
    "    ypos1 = np.array([])\n",
    "    num = np.unique(xpos1)\n",
    "    for i in range(0,downsample_size[0]):\n",
    "        ypos1 = np.append(ypos1,num)\n",
    "    zpos1 = np.zeros(downsample_size[0]*downsample_size[1])\n",
    "    dx1 = np.ones(downsample_size[0]*downsample_size[1])*0.5\n",
    "    dy1 = np.ones(downsample_size[0]*downsample_size[1])*0.5\n",
    "    dz1 = np.array([])\n",
    "    for i in array:\n",
    "        dz1 = np.append(dz1,i)\n",
    "    fig = plt.figure()\n",
    "    ax = fig.add_subplot(111, projection='3d')\n",
    "    ax.bar3d(xpos1, ypos1, zpos1, dx1, dy1, dz1, color='b', zsort='average')\n",
    "    ax.set_xlabel('X axis')\n",
    "    ax.set_ylabel('Y axis')\n",
    "    del xpos1, ypos1, zpos1, dx1, dy1, dz1, num , downsample_size, array\n",
    "    return ax\n",
    "    del ax, fig\n",
    "def Histogram(img, title):\n",
    "    plt.figure()\n",
    "    a = plt.hist(img[:,:,0].ravel(), bins=256, fc='r', ec='r')\n",
    "    a = plt.hist(img[:,:,1].ravel(), bins=256, fc='g', ec='g')\n",
    "    a = plt.hist(img[:,:,2].ravel(), bins=256, fc='b', ec='b')\n",
    "    plt.xlabel('Pixel Intensity')\n",
    "    plt.ylabel('Number of Pixel')\n",
    "    #plt.title(title)\n",
    "    #fileout.savefig()\n",
    "    plt.figure()\n",
    "    b = plt.hist(amparray(img,1).ravel(), bins=256, fc='k', ec='k')\n",
    "    plt.xlabel('Pixel Intensity')\n",
    "    plt.ylabel('Number of Pixel')\n",
    "    #plt.title(title)\n",
    "    #fileout.savefig()\n",
    "   # del img, title, a, b"
   ]
  },
  {
   "cell_type": "code",
   "execution_count": 66,
   "metadata": {
    "collapsed": false,
    "scrolled": true
   },
   "outputs": [],
   "source": [
    "setting()\n",
    "imshow(img,'Original Scene')\n",
    "#Histogram(img,'Original Scene')\n",
    "imshow(crop(img,r,xy),\"Cropped Scene\")\n",
    "#Histogram(crop(img,r,xy),\"Cropped Scene\")\n",
    "#Downsample\n",
    "csene = currentscene(img,r,xy,downsample_size)\n",
    "imshow(csene,'Downsampled Scene for Input')\n",
    "#Histogram(csene,'Downsampled Scene for Input')\n",
    "bx = cuplot(amparray(csene,VibraStage_amp))\n",
    "bx.set_zlabel('Amplitude(mm)')\n",
    "bx.set_zlim3d(0,3.5)\n",
    "#plt.title('Amplitude')\n",
    "plt.show()\n",
    "del bx\n",
    "bx = cuplot(freqarray(csene,VibraStage_freq))\n",
    "bx.set_zlabel('Frequency(Hz)')\n",
    "#bx.set_zlim3d(0,100)\n",
    "#plt.title('Frequency')\n",
    "plt.show()"
   ]
  },
  {
   "cell_type": "code",
   "execution_count": 67,
   "metadata": {
    "collapsed": false
   },
   "outputs": [
    {
     "name": "stdout",
     "output_type": "stream",
     "text": [
      "(467L, 330L, 4L)\n"
     ]
    }
   ],
   "source": [
    "print img.shape"
   ]
  }
 ],
 "metadata": {
  "anaconda-cloud": {},
  "kernelspec": {
   "display_name": "Python [default]",
   "language": "python",
   "name": "python2"
  },
  "language_info": {
   "codemirror_mode": {
    "name": "ipython",
    "version": 2
   },
   "file_extension": ".py",
   "mimetype": "text/x-python",
   "name": "python",
   "nbconvert_exporter": "python",
   "pygments_lexer": "ipython2",
   "version": "2.7.12"
  }
 },
 "nbformat": 4,
 "nbformat_minor": 0
}
